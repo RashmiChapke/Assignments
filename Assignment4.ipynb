{
  "nbformat": 4,
  "nbformat_minor": 0,
  "metadata": {
    "colab": {
      "name": "Assignment4.ipynb",
      "provenance": []
    },
    "kernelspec": {
      "name": "python3",
      "display_name": "Python 3"
    },
    "language_info": {
      "name": "python"
    }
  },
  "cells": [
    {
      "cell_type": "markdown",
      "metadata": {
        "id": "aAW2dnC5UWF5"
      },
      "source": [
        "# Assignment 4\n",
        "## 1.1"
      ]
    },
    {
      "cell_type": "code",
      "metadata": {
        "id": "cZo63rchUU-m"
      },
      "source": [
        "class triangle:\n",
        "  def __init__(self,a,b,c):\n",
        "    self.a=a\n",
        "    self.b=b\n",
        "    self.c=c"
      ],
      "execution_count": 67,
      "outputs": []
    },
    {
      "cell_type": "code",
      "metadata": {
        "id": "sioaR_h2ox2Z"
      },
      "source": [
        "class area_tri(triangle):\n",
        "  def __init__(self,*args):\n",
        "    super(area_tri,self).__init__(*args)\n",
        "    self.s=(self.a+self.b+self.c)/2\n",
        "  def area(self):\n",
        "    print((self.s*(self.s-self.a)*(self.s-self.b)*(self.s-self.c))**0.5)\n"
      ],
      "execution_count": 68,
      "outputs": []
    },
    {
      "cell_type": "code",
      "metadata": {
        "colab": {
          "base_uri": "https://localhost:8080/"
        },
        "id": "Qr6GrBvbqNDd",
        "outputId": "95940670-f4ad-4aba-accc-bf16322212dd"
      },
      "source": [
        "a=area_tri(2,3,4)\n",
        "a.area()"
      ],
      "execution_count": 69,
      "outputs": [
        {
          "output_type": "stream",
          "text": [
            "2.9047375096555625\n"
          ],
          "name": "stdout"
        }
      ]
    },
    {
      "cell_type": "markdown",
      "metadata": {
        "id": "y32a1aLxMFkU"
      },
      "source": [
        "# 1.2"
      ]
    },
    {
      "cell_type": "code",
      "metadata": {
        "id": "69Cc8AoxMMmR"
      },
      "source": [
        "def filter_long_words(lw, n):\n",
        "  if len(lw)>n:\n",
        "    print(lw)\n",
        "  else:\n",
        "    pass \n"
      ],
      "execution_count": 70,
      "outputs": []
    },
    {
      "cell_type": "code",
      "metadata": {
        "colab": {
          "base_uri": "https://localhost:8080/"
        },
        "id": "tZ1sOUrmM0b8",
        "outputId": "7fc0a419-79d3-4650-ca60-29a01ae24a85"
      },
      "source": [
        "filter_long_words(['sdas','fff','dff','fsdg'],3)"
      ],
      "execution_count": 71,
      "outputs": [
        {
          "output_type": "stream",
          "text": [
            "['sdas', 'fff', 'dff', 'fsdg']\n"
          ],
          "name": "stdout"
        }
      ]
    },
    {
      "cell_type": "code",
      "metadata": {
        "id": "ZsJJyHWINTPg"
      },
      "source": [
        "filter_long_words(['sdas','fff','dff','fsdg'],4)"
      ],
      "execution_count": 72,
      "outputs": []
    },
    {
      "cell_type": "markdown",
      "metadata": {
        "id": "-PLaTLEyNYXy"
      },
      "source": [
        "## 2.1"
      ]
    },
    {
      "cell_type": "code",
      "metadata": {
        "id": "zV5oZ0z0N1-c"
      },
      "source": [
        "def map_words(lw):\n",
        "  length=[]\n",
        "  for i in lw:\n",
        "    l=len(i)\n",
        "    length.append(l)\n",
        "  print(length)\n",
        "\n"
      ],
      "execution_count": 55,
      "outputs": []
    },
    {
      "cell_type": "code",
      "metadata": {
        "colab": {
          "base_uri": "https://localhost:8080/"
        },
        "id": "APbksX9LORH0",
        "outputId": "abb98000-0439-412e-cca2-b9f3516b82a6"
      },
      "source": [
        "x=['dsf','rggd','efewf','sfdd']\n",
        "map_words(x)"
      ],
      "execution_count": 73,
      "outputs": [
        {
          "output_type": "stream",
          "text": [
            "[3, 4, 5, 4]\n"
          ],
          "name": "stdout"
        }
      ]
    },
    {
      "cell_type": "markdown",
      "metadata": {
        "id": "mPV61RgXSOn5"
      },
      "source": [
        "## 2.2"
      ]
    },
    {
      "cell_type": "code",
      "metadata": {
        "id": "iN8IGXZvSWnj"
      },
      "source": [
        "def vowel(letter):\n",
        "  if letter=='a':\n",
        "    print('True')\n",
        "  elif letter=='e':\n",
        "    print('True')\n",
        "  elif letter=='i':\n",
        "    print('True')\n",
        "  elif letter=='o':\n",
        "    print('True')\n",
        "  elif letter=='u':\n",
        "    print('True')\n",
        "  else:\n",
        "    print(False)\n"
      ],
      "execution_count": 74,
      "outputs": []
    },
    {
      "cell_type": "code",
      "metadata": {
        "colab": {
          "base_uri": "https://localhost:8080/"
        },
        "id": "IE0wG1jBSNwA",
        "outputId": "d11cd2fa-fc3d-484e-d5f9-ba930aae2ef8"
      },
      "source": [
        "vowel('t')"
      ],
      "execution_count": 75,
      "outputs": [
        {
          "output_type": "stream",
          "text": [
            "False\n"
          ],
          "name": "stdout"
        }
      ]
    },
    {
      "cell_type": "code",
      "metadata": {
        "colab": {
          "base_uri": "https://localhost:8080/"
        },
        "id": "NOJLMQHwUzp6",
        "outputId": "24022b02-4125-4f0f-8615-3de53467125c"
      },
      "source": [
        "vowel('i')"
      ],
      "execution_count": 76,
      "outputs": [
        {
          "output_type": "stream",
          "text": [
            "True\n"
          ],
          "name": "stdout"
        }
      ]
    }
  ]
}